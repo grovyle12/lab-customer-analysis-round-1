{
 "cells": [
  {
   "cell_type": "code",
   "execution_count": 517,
   "id": "647e82ca-49a5-49ec-8e67-d5e92b4fadfb",
   "metadata": {},
   "outputs": [],
   "source": [
    "import pandas as pd\n",
    "import numpy as np"
   ]
  },
  {
   "cell_type": "markdown",
   "id": "4f02727f-bdb0-4361-81c5-ebc259edc4fc",
   "metadata": {},
   "source": [
    "# Read the three files into python as dataframes\n",
    "\n"
   ]
  },
  {
   "cell_type": "code",
   "execution_count": 518,
   "id": "bbd24df3-28af-4c78-9dd4-9719195f7288",
   "metadata": {},
   "outputs": [],
   "source": [
    "data_1 = pd.read_excel('C:/Users/mauri/Documents/Important IH Files/lab-customer-analysis-round-1/files_for_lab/excel_files/file1.xlsx')"
   ]
  },
  {
   "cell_type": "code",
   "execution_count": 519,
   "id": "65839f12-79d2-4575-a65a-9864d9c78e1f",
   "metadata": {},
   "outputs": [],
   "source": [
    "data_2 = pd.read_excel('C:/Users/mauri/Documents/Important IH Files/lab-customer-analysis-round-1/files_for_lab/excel_files/file2.xlsx')"
   ]
  },
  {
   "cell_type": "code",
   "execution_count": 520,
   "id": "0dd469b6-6234-4608-ad4e-b59b150fbab7",
   "metadata": {},
   "outputs": [],
   "source": [
    "data_3 = pd.read_excel('C:/Users/mauri/Documents/Important IH Files/lab-customer-analysis-round-1/files_for_lab/excel_files/file3.xlsx')"
   ]
  },
  {
   "cell_type": "markdown",
   "id": "f6c799a7-b300-4b0f-a277-681efb16f473",
   "metadata": {},
   "source": [
    "# Show the DataFrame's shape.\n",
    "\n"
   ]
  },
  {
   "cell_type": "code",
   "execution_count": 521,
   "id": "77d87d4b-7a34-4a04-bf23-11c407c2b1dd",
   "metadata": {},
   "outputs": [
    {
     "data": {
      "text/plain": [
       "9137"
      ]
     },
     "execution_count": 521,
     "metadata": {},
     "output_type": "execute_result"
    }
   ],
   "source": [
    "data_1.shape[0] + data_2.shape[0] + data_3.shape[0]"
   ]
  },
  {
   "cell_type": "code",
   "execution_count": 522,
   "id": "4b80848c-f7f5-4f39-8d27-b71069c6bf13",
   "metadata": {},
   "outputs": [
    {
     "data": {
      "text/plain": [
       "(996, 11)"
      ]
     },
     "execution_count": 522,
     "metadata": {},
     "output_type": "execute_result"
    }
   ],
   "source": [
    "data_2.shape"
   ]
  },
  {
   "cell_type": "code",
   "execution_count": 523,
   "id": "a8ba1c82-affc-4c9d-af3e-3253ea4e8b85",
   "metadata": {},
   "outputs": [
    {
     "data": {
      "text/plain": [
       "(7070, 11)"
      ]
     },
     "execution_count": 523,
     "metadata": {},
     "output_type": "execute_result"
    }
   ],
   "source": [
    "data_3.shape"
   ]
  },
  {
   "cell_type": "markdown",
   "id": "ea816ab1-3236-4306-b8f2-aacf9a71e2ba",
   "metadata": {},
   "source": [
    "# Standardize header names."
   ]
  },
  {
   "cell_type": "code",
   "execution_count": 524,
   "id": "451e29af-2d8a-4e35-98b3-786edb123b9b",
   "metadata": {},
   "outputs": [
    {
     "name": "stdout",
     "output_type": "stream",
     "text": [
      "customer\n",
      "st\n",
      "gender\n",
      "education\n",
      "customer lifetime value\n",
      "income\n",
      "monthly premium auto\n",
      "number of open complaints\n",
      "policy type\n",
      "vehicle class\n",
      "total claim amount\n"
     ]
    }
   ],
   "source": [
    "# data_1.head(0)\n",
    "col_new_1 = []\n",
    "for item in data_1:\n",
    "    print(item.lower())\n",
    "    col_new_1.append(item.lower())\n",
    "data_1.columns = col_new_1"
   ]
  },
  {
   "cell_type": "code",
   "execution_count": 525,
   "id": "2a2869cd-f259-45a1-b279-a090703a09b6",
   "metadata": {},
   "outputs": [
    {
     "data": {
      "text/html": [
       "<div>\n",
       "<style scoped>\n",
       "    .dataframe tbody tr th:only-of-type {\n",
       "        vertical-align: middle;\n",
       "    }\n",
       "\n",
       "    .dataframe tbody tr th {\n",
       "        vertical-align: top;\n",
       "    }\n",
       "\n",
       "    .dataframe thead th {\n",
       "        text-align: right;\n",
       "    }\n",
       "</style>\n",
       "<table border=\"1\" class=\"dataframe\">\n",
       "  <thead>\n",
       "    <tr style=\"text-align: right;\">\n",
       "      <th></th>\n",
       "      <th>customer</th>\n",
       "      <th>st</th>\n",
       "      <th>gender</th>\n",
       "      <th>education</th>\n",
       "      <th>customer lifetime value</th>\n",
       "      <th>income</th>\n",
       "      <th>monthly premium auto</th>\n",
       "      <th>number of open complaints</th>\n",
       "      <th>policy type</th>\n",
       "      <th>vehicle class</th>\n",
       "      <th>total claim amount</th>\n",
       "    </tr>\n",
       "  </thead>\n",
       "  <tbody>\n",
       "  </tbody>\n",
       "</table>\n",
       "</div>"
      ],
      "text/plain": [
       "Empty DataFrame\n",
       "Columns: [customer, st, gender, education, customer lifetime value, income, monthly premium auto, number of open complaints, policy type, vehicle class, total claim amount]\n",
       "Index: []"
      ]
     },
     "execution_count": 525,
     "metadata": {},
     "output_type": "execute_result"
    }
   ],
   "source": [
    "data_1.head(0)"
   ]
  },
  {
   "cell_type": "code",
   "execution_count": 526,
   "id": "9e366af6-d52a-4b0d-9a80-5341c6b0c0e9",
   "metadata": {},
   "outputs": [
    {
     "name": "stdout",
     "output_type": "stream",
     "text": [
      "customer\n",
      "st\n",
      "gender\n",
      "education\n",
      "customer lifetime value\n",
      "income\n",
      "monthly premium auto\n",
      "number of open complaints\n",
      "total claim amount\n",
      "policy type\n",
      "vehicle class\n"
     ]
    }
   ],
   "source": [
    "col_new_2 = []\n",
    "for item in data_2:\n",
    "    print(item.lower())\n",
    "    col_new_2.append(item.lower())\n",
    "data_2.columns = col_new_2"
   ]
  },
  {
   "cell_type": "code",
   "execution_count": 527,
   "id": "3c6880dd-9253-4bb8-b34e-8c965c9a114c",
   "metadata": {},
   "outputs": [
    {
     "data": {
      "text/html": [
       "<div>\n",
       "<style scoped>\n",
       "    .dataframe tbody tr th:only-of-type {\n",
       "        vertical-align: middle;\n",
       "    }\n",
       "\n",
       "    .dataframe tbody tr th {\n",
       "        vertical-align: top;\n",
       "    }\n",
       "\n",
       "    .dataframe thead th {\n",
       "        text-align: right;\n",
       "    }\n",
       "</style>\n",
       "<table border=\"1\" class=\"dataframe\">\n",
       "  <thead>\n",
       "    <tr style=\"text-align: right;\">\n",
       "      <th></th>\n",
       "      <th>customer</th>\n",
       "      <th>st</th>\n",
       "      <th>gender</th>\n",
       "      <th>education</th>\n",
       "      <th>customer lifetime value</th>\n",
       "      <th>income</th>\n",
       "      <th>monthly premium auto</th>\n",
       "      <th>number of open complaints</th>\n",
       "      <th>total claim amount</th>\n",
       "      <th>policy type</th>\n",
       "      <th>vehicle class</th>\n",
       "    </tr>\n",
       "  </thead>\n",
       "  <tbody>\n",
       "  </tbody>\n",
       "</table>\n",
       "</div>"
      ],
      "text/plain": [
       "Empty DataFrame\n",
       "Columns: [customer, st, gender, education, customer lifetime value, income, monthly premium auto, number of open complaints, total claim amount, policy type, vehicle class]\n",
       "Index: []"
      ]
     },
     "execution_count": 527,
     "metadata": {},
     "output_type": "execute_result"
    }
   ],
   "source": [
    "data_2.head(0)"
   ]
  },
  {
   "cell_type": "code",
   "execution_count": 528,
   "id": "af460616-da1b-417a-8254-57f0db040f2f",
   "metadata": {},
   "outputs": [
    {
     "name": "stdout",
     "output_type": "stream",
     "text": [
      "customer\n",
      "state\n",
      "customer lifetime value\n",
      "education\n",
      "gender\n",
      "income\n",
      "monthly premium auto\n",
      "number of open complaints\n",
      "policy type\n",
      "total claim amount\n",
      "vehicle class\n"
     ]
    }
   ],
   "source": [
    "col_new_3 = []\n",
    "for item in data_3:\n",
    "    print(item.lower())\n",
    "    col_new_3.append(item.lower())\n",
    "data_3.columns = col_new_3"
   ]
  },
  {
   "cell_type": "code",
   "execution_count": 529,
   "id": "d4246f43-03b8-4bd5-a749-f4d2bfc16502",
   "metadata": {},
   "outputs": [
    {
     "data": {
      "text/html": [
       "<div>\n",
       "<style scoped>\n",
       "    .dataframe tbody tr th:only-of-type {\n",
       "        vertical-align: middle;\n",
       "    }\n",
       "\n",
       "    .dataframe tbody tr th {\n",
       "        vertical-align: top;\n",
       "    }\n",
       "\n",
       "    .dataframe thead th {\n",
       "        text-align: right;\n",
       "    }\n",
       "</style>\n",
       "<table border=\"1\" class=\"dataframe\">\n",
       "  <thead>\n",
       "    <tr style=\"text-align: right;\">\n",
       "      <th></th>\n",
       "      <th>customer</th>\n",
       "      <th>state</th>\n",
       "      <th>customer lifetime value</th>\n",
       "      <th>education</th>\n",
       "      <th>gender</th>\n",
       "      <th>income</th>\n",
       "      <th>monthly premium auto</th>\n",
       "      <th>number of open complaints</th>\n",
       "      <th>policy type</th>\n",
       "      <th>total claim amount</th>\n",
       "      <th>vehicle class</th>\n",
       "    </tr>\n",
       "  </thead>\n",
       "  <tbody>\n",
       "  </tbody>\n",
       "</table>\n",
       "</div>"
      ],
      "text/plain": [
       "Empty DataFrame\n",
       "Columns: [customer, state, customer lifetime value, education, gender, income, monthly premium auto, number of open complaints, policy type, total claim amount, vehicle class]\n",
       "Index: []"
      ]
     },
     "execution_count": 529,
     "metadata": {},
     "output_type": "execute_result"
    }
   ],
   "source": [
    "data_3.head(0)"
   ]
  },
  {
   "cell_type": "markdown",
   "id": "80426d50-0e9f-4249-b60a-86cd427994f9",
   "metadata": {},
   "source": [
    "# Rearrange the columns in the dataframe as needed\n",
    "\n"
   ]
  },
  {
   "cell_type": "code",
   "execution_count": 530,
   "id": "1717d12a-94af-4953-90ac-f7e796bd7c6c",
   "metadata": {},
   "outputs": [
    {
     "data": {
      "text/plain": [
       "['customer',\n",
       " 'st',\n",
       " 'gender',\n",
       " 'education',\n",
       " 'customer lifetime value',\n",
       " 'income',\n",
       " 'monthly premium auto',\n",
       " 'number of open complaints',\n",
       " 'policy type',\n",
       " 'vehicle class',\n",
       " 'total claim amount']"
      ]
     },
     "execution_count": 530,
     "metadata": {},
     "output_type": "execute_result"
    }
   ],
   "source": [
    "col_1_re = list(data_1.columns.values)\n",
    "col_1_re"
   ]
  },
  {
   "cell_type": "code",
   "execution_count": 531,
   "id": "9f9c0033-77f3-4e24-9026-a9f1443c8765",
   "metadata": {},
   "outputs": [],
   "source": [
    "data_1 = data_1[['customer','st','gender','education','customer lifetime value','income','monthly premium auto','number of open complaints','policy type','vehicle class','total claim amount']]"
   ]
  },
  {
   "cell_type": "code",
   "execution_count": 532,
   "id": "e897b5b7-7912-4d24-83ed-5e038ce4058c",
   "metadata": {},
   "outputs": [
    {
     "data": {
      "text/plain": [
       "['customer',\n",
       " 'st',\n",
       " 'gender',\n",
       " 'education',\n",
       " 'customer lifetime value',\n",
       " 'income',\n",
       " 'monthly premium auto',\n",
       " 'number of open complaints',\n",
       " 'total claim amount',\n",
       " 'policy type',\n",
       " 'vehicle class']"
      ]
     },
     "execution_count": 532,
     "metadata": {},
     "output_type": "execute_result"
    }
   ],
   "source": [
    "col_2_re = list(data_2.columns.values)\n",
    "col_2_re"
   ]
  },
  {
   "cell_type": "code",
   "execution_count": 533,
   "id": "da012215-2f94-42dc-9191-7ce1ab58784d",
   "metadata": {},
   "outputs": [],
   "source": [
    "data_2 = data_2[['customer','st','gender','education','customer lifetime value','income','monthly premium auto','number of open complaints','policy type','vehicle class','total claim amount']]\n",
    "\n"
   ]
  },
  {
   "cell_type": "code",
   "execution_count": 534,
   "id": "afdd6fbb-0c64-4643-abcd-782b5ca4afd0",
   "metadata": {},
   "outputs": [
    {
     "data": {
      "text/plain": [
       "['customer',\n",
       " 'state',\n",
       " 'customer lifetime value',\n",
       " 'education',\n",
       " 'gender',\n",
       " 'income',\n",
       " 'monthly premium auto',\n",
       " 'number of open complaints',\n",
       " 'policy type',\n",
       " 'total claim amount',\n",
       " 'vehicle class']"
      ]
     },
     "execution_count": 534,
     "metadata": {},
     "output_type": "execute_result"
    }
   ],
   "source": [
    "col_3_re = list(data_3.columns.values)\n",
    "col_3_re"
   ]
  },
  {
   "cell_type": "code",
   "execution_count": 535,
   "id": "15fe59ea-1a67-4402-ac62-58b503a4f213",
   "metadata": {},
   "outputs": [],
   "source": [
    "data_3 = data_3.rename({'state':'st'}, axis = 1)"
   ]
  },
  {
   "cell_type": "code",
   "execution_count": 536,
   "id": "8c1f34c2-5637-429b-ad65-0c66b4356a0c",
   "metadata": {},
   "outputs": [],
   "source": [
    "data_3 = data_3[['customer','st','gender','education','customer lifetime value','income','monthly premium auto','number of open complaints','policy type','vehicle class','total claim amount']]"
   ]
  },
  {
   "cell_type": "code",
   "execution_count": 537,
   "id": "eef2b42d-3470-4058-a43f-8c08379f8033",
   "metadata": {},
   "outputs": [
    {
     "data": {
      "text/html": [
       "<div>\n",
       "<style scoped>\n",
       "    .dataframe tbody tr th:only-of-type {\n",
       "        vertical-align: middle;\n",
       "    }\n",
       "\n",
       "    .dataframe tbody tr th {\n",
       "        vertical-align: top;\n",
       "    }\n",
       "\n",
       "    .dataframe thead th {\n",
       "        text-align: right;\n",
       "    }\n",
       "</style>\n",
       "<table border=\"1\" class=\"dataframe\">\n",
       "  <thead>\n",
       "    <tr style=\"text-align: right;\">\n",
       "      <th></th>\n",
       "      <th>customer</th>\n",
       "      <th>st</th>\n",
       "      <th>gender</th>\n",
       "      <th>education</th>\n",
       "      <th>customer lifetime value</th>\n",
       "      <th>income</th>\n",
       "      <th>monthly premium auto</th>\n",
       "      <th>number of open complaints</th>\n",
       "      <th>policy type</th>\n",
       "      <th>vehicle class</th>\n",
       "      <th>total claim amount</th>\n",
       "    </tr>\n",
       "  </thead>\n",
       "  <tbody>\n",
       "    <tr>\n",
       "      <th>0</th>\n",
       "      <td>RB50392</td>\n",
       "      <td>Washington</td>\n",
       "      <td>NaN</td>\n",
       "      <td>Master</td>\n",
       "      <td>NaN</td>\n",
       "      <td>0</td>\n",
       "      <td>1000</td>\n",
       "      <td>1/0/00</td>\n",
       "      <td>Personal Auto</td>\n",
       "      <td>Four-Door Car</td>\n",
       "      <td>2.704934</td>\n",
       "    </tr>\n",
       "    <tr>\n",
       "      <th>1</th>\n",
       "      <td>QZ44356</td>\n",
       "      <td>Arizona</td>\n",
       "      <td>F</td>\n",
       "      <td>Bachelor</td>\n",
       "      <td>697953.59%</td>\n",
       "      <td>0</td>\n",
       "      <td>94</td>\n",
       "      <td>1/0/00</td>\n",
       "      <td>Personal Auto</td>\n",
       "      <td>Four-Door Car</td>\n",
       "      <td>1131.464935</td>\n",
       "    </tr>\n",
       "    <tr>\n",
       "      <th>2</th>\n",
       "      <td>AI49188</td>\n",
       "      <td>Nevada</td>\n",
       "      <td>F</td>\n",
       "      <td>Bachelor</td>\n",
       "      <td>1288743.17%</td>\n",
       "      <td>48767</td>\n",
       "      <td>108</td>\n",
       "      <td>1/0/00</td>\n",
       "      <td>Personal Auto</td>\n",
       "      <td>Two-Door Car</td>\n",
       "      <td>566.472247</td>\n",
       "    </tr>\n",
       "    <tr>\n",
       "      <th>3</th>\n",
       "      <td>WW63253</td>\n",
       "      <td>California</td>\n",
       "      <td>M</td>\n",
       "      <td>Bachelor</td>\n",
       "      <td>764586.18%</td>\n",
       "      <td>0</td>\n",
       "      <td>106</td>\n",
       "      <td>1/0/00</td>\n",
       "      <td>Corporate Auto</td>\n",
       "      <td>SUV</td>\n",
       "      <td>529.881344</td>\n",
       "    </tr>\n",
       "    <tr>\n",
       "      <th>4</th>\n",
       "      <td>GA49547</td>\n",
       "      <td>Washington</td>\n",
       "      <td>M</td>\n",
       "      <td>High School or Below</td>\n",
       "      <td>536307.65%</td>\n",
       "      <td>36357</td>\n",
       "      <td>68</td>\n",
       "      <td>1/0/00</td>\n",
       "      <td>Personal Auto</td>\n",
       "      <td>Four-Door Car</td>\n",
       "      <td>17.269323</td>\n",
       "    </tr>\n",
       "  </tbody>\n",
       "</table>\n",
       "</div>"
      ],
      "text/plain": [
       "  customer          st gender             education customer lifetime value  \\\n",
       "0  RB50392  Washington    NaN                Master                     NaN   \n",
       "1  QZ44356     Arizona      F              Bachelor              697953.59%   \n",
       "2  AI49188      Nevada      F              Bachelor             1288743.17%   \n",
       "3  WW63253  California      M              Bachelor              764586.18%   \n",
       "4  GA49547  Washington      M  High School or Below              536307.65%   \n",
       "\n",
       "   income  monthly premium auto number of open complaints     policy type  \\\n",
       "0       0                  1000                    1/0/00   Personal Auto   \n",
       "1       0                    94                    1/0/00   Personal Auto   \n",
       "2   48767                   108                    1/0/00   Personal Auto   \n",
       "3       0                   106                    1/0/00  Corporate Auto   \n",
       "4   36357                    68                    1/0/00   Personal Auto   \n",
       "\n",
       "   vehicle class  total claim amount  \n",
       "0  Four-Door Car            2.704934  \n",
       "1  Four-Door Car         1131.464935  \n",
       "2   Two-Door Car          566.472247  \n",
       "3            SUV          529.881344  \n",
       "4  Four-Door Car           17.269323  "
      ]
     },
     "execution_count": 537,
     "metadata": {},
     "output_type": "execute_result"
    }
   ],
   "source": [
    "data_1.head(5)"
   ]
  },
  {
   "cell_type": "code",
   "execution_count": 538,
   "id": "bbcc13e1-f27f-4e89-918c-83f20cd9ae78",
   "metadata": {},
   "outputs": [
    {
     "data": {
      "text/html": [
       "<div>\n",
       "<style scoped>\n",
       "    .dataframe tbody tr th:only-of-type {\n",
       "        vertical-align: middle;\n",
       "    }\n",
       "\n",
       "    .dataframe tbody tr th {\n",
       "        vertical-align: top;\n",
       "    }\n",
       "\n",
       "    .dataframe thead th {\n",
       "        text-align: right;\n",
       "    }\n",
       "</style>\n",
       "<table border=\"1\" class=\"dataframe\">\n",
       "  <thead>\n",
       "    <tr style=\"text-align: right;\">\n",
       "      <th></th>\n",
       "      <th>customer</th>\n",
       "      <th>st</th>\n",
       "      <th>gender</th>\n",
       "      <th>education</th>\n",
       "      <th>customer lifetime value</th>\n",
       "      <th>income</th>\n",
       "      <th>monthly premium auto</th>\n",
       "      <th>number of open complaints</th>\n",
       "      <th>policy type</th>\n",
       "      <th>vehicle class</th>\n",
       "      <th>total claim amount</th>\n",
       "    </tr>\n",
       "  </thead>\n",
       "  <tbody>\n",
       "    <tr>\n",
       "      <th>0</th>\n",
       "      <td>GS98873</td>\n",
       "      <td>Arizona</td>\n",
       "      <td>F</td>\n",
       "      <td>Bachelor</td>\n",
       "      <td>323912.47%</td>\n",
       "      <td>16061</td>\n",
       "      <td>88</td>\n",
       "      <td>1/0/00</td>\n",
       "      <td>Personal Auto</td>\n",
       "      <td>Four-Door Car</td>\n",
       "      <td>633.6</td>\n",
       "    </tr>\n",
       "    <tr>\n",
       "      <th>1</th>\n",
       "      <td>CW49887</td>\n",
       "      <td>California</td>\n",
       "      <td>F</td>\n",
       "      <td>Master</td>\n",
       "      <td>462680.11%</td>\n",
       "      <td>79487</td>\n",
       "      <td>114</td>\n",
       "      <td>1/0/00</td>\n",
       "      <td>Special Auto</td>\n",
       "      <td>SUV</td>\n",
       "      <td>547.2</td>\n",
       "    </tr>\n",
       "    <tr>\n",
       "      <th>2</th>\n",
       "      <td>MY31220</td>\n",
       "      <td>California</td>\n",
       "      <td>F</td>\n",
       "      <td>College</td>\n",
       "      <td>899704.02%</td>\n",
       "      <td>54230</td>\n",
       "      <td>112</td>\n",
       "      <td>1/0/00</td>\n",
       "      <td>Personal Auto</td>\n",
       "      <td>Two-Door Car</td>\n",
       "      <td>537.6</td>\n",
       "    </tr>\n",
       "    <tr>\n",
       "      <th>3</th>\n",
       "      <td>UH35128</td>\n",
       "      <td>Oregon</td>\n",
       "      <td>F</td>\n",
       "      <td>College</td>\n",
       "      <td>2580706.30%</td>\n",
       "      <td>71210</td>\n",
       "      <td>214</td>\n",
       "      <td>1/1/00</td>\n",
       "      <td>Personal Auto</td>\n",
       "      <td>Luxury Car</td>\n",
       "      <td>1027.2</td>\n",
       "    </tr>\n",
       "    <tr>\n",
       "      <th>4</th>\n",
       "      <td>WH52799</td>\n",
       "      <td>Arizona</td>\n",
       "      <td>F</td>\n",
       "      <td>College</td>\n",
       "      <td>380812.21%</td>\n",
       "      <td>94903</td>\n",
       "      <td>94</td>\n",
       "      <td>1/0/00</td>\n",
       "      <td>Corporate Auto</td>\n",
       "      <td>Two-Door Car</td>\n",
       "      <td>451.2</td>\n",
       "    </tr>\n",
       "  </tbody>\n",
       "</table>\n",
       "</div>"
      ],
      "text/plain": [
       "  customer          st gender education customer lifetime value  income  \\\n",
       "0  GS98873     Arizona      F  Bachelor              323912.47%   16061   \n",
       "1  CW49887  California      F    Master              462680.11%   79487   \n",
       "2  MY31220  California      F   College              899704.02%   54230   \n",
       "3  UH35128      Oregon      F   College             2580706.30%   71210   \n",
       "4  WH52799     Arizona      F   College              380812.21%   94903   \n",
       "\n",
       "   monthly premium auto number of open complaints     policy type  \\\n",
       "0                    88                    1/0/00   Personal Auto   \n",
       "1                   114                    1/0/00    Special Auto   \n",
       "2                   112                    1/0/00   Personal Auto   \n",
       "3                   214                    1/1/00   Personal Auto   \n",
       "4                    94                    1/0/00  Corporate Auto   \n",
       "\n",
       "   vehicle class  total claim amount  \n",
       "0  Four-Door Car               633.6  \n",
       "1            SUV               547.2  \n",
       "2   Two-Door Car               537.6  \n",
       "3     Luxury Car              1027.2  \n",
       "4   Two-Door Car               451.2  "
      ]
     },
     "execution_count": 538,
     "metadata": {},
     "output_type": "execute_result"
    }
   ],
   "source": [
    "data_2.head(5)"
   ]
  },
  {
   "cell_type": "code",
   "execution_count": 539,
   "id": "9dced091-a1ea-412c-8a3c-9fee3246d214",
   "metadata": {},
   "outputs": [
    {
     "data": {
      "text/html": [
       "<div>\n",
       "<style scoped>\n",
       "    .dataframe tbody tr th:only-of-type {\n",
       "        vertical-align: middle;\n",
       "    }\n",
       "\n",
       "    .dataframe tbody tr th {\n",
       "        vertical-align: top;\n",
       "    }\n",
       "\n",
       "    .dataframe thead th {\n",
       "        text-align: right;\n",
       "    }\n",
       "</style>\n",
       "<table border=\"1\" class=\"dataframe\">\n",
       "  <thead>\n",
       "    <tr style=\"text-align: right;\">\n",
       "      <th></th>\n",
       "      <th>customer</th>\n",
       "      <th>st</th>\n",
       "      <th>gender</th>\n",
       "      <th>education</th>\n",
       "      <th>customer lifetime value</th>\n",
       "      <th>income</th>\n",
       "      <th>monthly premium auto</th>\n",
       "      <th>number of open complaints</th>\n",
       "      <th>policy type</th>\n",
       "      <th>vehicle class</th>\n",
       "      <th>total claim amount</th>\n",
       "    </tr>\n",
       "  </thead>\n",
       "  <tbody>\n",
       "    <tr>\n",
       "      <th>0</th>\n",
       "      <td>SA25987</td>\n",
       "      <td>Washington</td>\n",
       "      <td>M</td>\n",
       "      <td>High School or Below</td>\n",
       "      <td>3479.137523</td>\n",
       "      <td>0</td>\n",
       "      <td>104</td>\n",
       "      <td>0</td>\n",
       "      <td>Personal Auto</td>\n",
       "      <td>Two-Door Car</td>\n",
       "      <td>499.200000</td>\n",
       "    </tr>\n",
       "    <tr>\n",
       "      <th>1</th>\n",
       "      <td>TB86706</td>\n",
       "      <td>Arizona</td>\n",
       "      <td>M</td>\n",
       "      <td>Master</td>\n",
       "      <td>2502.637401</td>\n",
       "      <td>0</td>\n",
       "      <td>66</td>\n",
       "      <td>0</td>\n",
       "      <td>Personal Auto</td>\n",
       "      <td>Two-Door Car</td>\n",
       "      <td>3.468912</td>\n",
       "    </tr>\n",
       "    <tr>\n",
       "      <th>2</th>\n",
       "      <td>ZL73902</td>\n",
       "      <td>Nevada</td>\n",
       "      <td>F</td>\n",
       "      <td>Bachelor</td>\n",
       "      <td>3265.156348</td>\n",
       "      <td>25820</td>\n",
       "      <td>82</td>\n",
       "      <td>0</td>\n",
       "      <td>Personal Auto</td>\n",
       "      <td>Four-Door Car</td>\n",
       "      <td>393.600000</td>\n",
       "    </tr>\n",
       "    <tr>\n",
       "      <th>3</th>\n",
       "      <td>KX23516</td>\n",
       "      <td>California</td>\n",
       "      <td>F</td>\n",
       "      <td>High School or Below</td>\n",
       "      <td>4455.843406</td>\n",
       "      <td>0</td>\n",
       "      <td>121</td>\n",
       "      <td>0</td>\n",
       "      <td>Personal Auto</td>\n",
       "      <td>SUV</td>\n",
       "      <td>699.615192</td>\n",
       "    </tr>\n",
       "    <tr>\n",
       "      <th>4</th>\n",
       "      <td>FN77294</td>\n",
       "      <td>California</td>\n",
       "      <td>M</td>\n",
       "      <td>High School or Below</td>\n",
       "      <td>7704.958480</td>\n",
       "      <td>30366</td>\n",
       "      <td>101</td>\n",
       "      <td>2</td>\n",
       "      <td>Personal Auto</td>\n",
       "      <td>SUV</td>\n",
       "      <td>484.800000</td>\n",
       "    </tr>\n",
       "  </tbody>\n",
       "</table>\n",
       "</div>"
      ],
      "text/plain": [
       "  customer          st gender             education  customer lifetime value  \\\n",
       "0  SA25987  Washington      M  High School or Below              3479.137523   \n",
       "1  TB86706     Arizona      M                Master              2502.637401   \n",
       "2  ZL73902      Nevada      F              Bachelor              3265.156348   \n",
       "3  KX23516  California      F  High School or Below              4455.843406   \n",
       "4  FN77294  California      M  High School or Below              7704.958480   \n",
       "\n",
       "   income  monthly premium auto  number of open complaints    policy type  \\\n",
       "0       0                   104                          0  Personal Auto   \n",
       "1       0                    66                          0  Personal Auto   \n",
       "2   25820                    82                          0  Personal Auto   \n",
       "3       0                   121                          0  Personal Auto   \n",
       "4   30366                   101                          2  Personal Auto   \n",
       "\n",
       "   vehicle class  total claim amount  \n",
       "0   Two-Door Car          499.200000  \n",
       "1   Two-Door Car            3.468912  \n",
       "2  Four-Door Car          393.600000  \n",
       "3            SUV          699.615192  \n",
       "4            SUV          484.800000  "
      ]
     },
     "execution_count": 539,
     "metadata": {},
     "output_type": "execute_result"
    }
   ],
   "source": [
    "data_3.head(5)"
   ]
  },
  {
   "cell_type": "code",
   "execution_count": 540,
   "id": "26ccd380-f4c0-4cb0-a389-f69dbd50ed47",
   "metadata": {},
   "outputs": [
    {
     "data": {
      "text/plain": [
       "array([ True,  True,  True,  True,  True,  True,  True,  True,  True,\n",
       "        True,  True])"
      ]
     },
     "execution_count": 540,
     "metadata": {},
     "output_type": "execute_result"
    }
   ],
   "source": [
    "data_1.columns == data_2.columns #Checks if data 1 columns are equal to columns 2"
   ]
  },
  {
   "cell_type": "code",
   "execution_count": 541,
   "id": "cd901e31-25c5-4f26-9f3f-72494163de00",
   "metadata": {},
   "outputs": [
    {
     "data": {
      "text/plain": [
       "array([ True,  True,  True,  True,  True,  True,  True,  True,  True,\n",
       "        True,  True])"
      ]
     },
     "execution_count": 541,
     "metadata": {},
     "output_type": "execute_result"
    }
   ],
   "source": [
    "data_2.columns == data_3.columns #Checks if data 2 columns are equal to columns 3"
   ]
  },
  {
   "cell_type": "code",
   "execution_count": 542,
   "id": "a56fe63e-cc0f-45d0-aeb3-26a494301e09",
   "metadata": {},
   "outputs": [
    {
     "data": {
      "text/plain": [
       "array([ True,  True,  True,  True,  True,  True,  True,  True,  True,\n",
       "        True,  True])"
      ]
     },
     "execution_count": 542,
     "metadata": {},
     "output_type": "execute_result"
    }
   ],
   "source": [
    "data_1.columns == data_3.columns #Checks if data 1 columns are equal to columns 3"
   ]
  },
  {
   "cell_type": "code",
   "execution_count": 543,
   "id": "4c203918-f0bb-4aa4-b6aa-1b384796c198",
   "metadata": {},
   "outputs": [],
   "source": [
    "# Not Required, already dom"
   ]
  },
  {
   "cell_type": "markdown",
   "id": "8ae8d8a6-cf02-4d7e-a705-c58e5791c044",
   "metadata": {},
   "source": [
    "# Concatenate the three dataframes\n",
    "\n"
   ]
  },
  {
   "cell_type": "code",
   "execution_count": 544,
   "id": "b04147bf-4b85-496c-9cd4-1f1912c5c7ba",
   "metadata": {},
   "outputs": [],
   "source": [
    "data_combi = pd.concat([data_1,data_2,data_3], axis = 0)"
   ]
  },
  {
   "cell_type": "code",
   "execution_count": 545,
   "id": "f38414aa-ecde-4aaa-9b59-bb090b0bd77f",
   "metadata": {},
   "outputs": [],
   "source": [
    "data_combi.reset_index(drop = True, inplace = True )"
   ]
  },
  {
   "cell_type": "markdown",
   "id": "b6f9809f-cdd0-45c7-970f-6bf1dc71fa46",
   "metadata": {},
   "source": [
    "# Which columns are numerical?\n",
    "\n"
   ]
  },
  {
   "cell_type": "code",
   "execution_count": 546,
   "id": "a8dca1a9-bbde-437f-abbe-29540547aad3",
   "metadata": {},
   "outputs": [
    {
     "data": {
      "text/html": [
       "<div>\n",
       "<style scoped>\n",
       "    .dataframe tbody tr th:only-of-type {\n",
       "        vertical-align: middle;\n",
       "    }\n",
       "\n",
       "    .dataframe tbody tr th {\n",
       "        vertical-align: top;\n",
       "    }\n",
       "\n",
       "    .dataframe thead th {\n",
       "        text-align: right;\n",
       "    }\n",
       "</style>\n",
       "<table border=\"1\" class=\"dataframe\">\n",
       "  <thead>\n",
       "    <tr style=\"text-align: right;\">\n",
       "      <th></th>\n",
       "      <th>income</th>\n",
       "      <th>monthly premium auto</th>\n",
       "      <th>total claim amount</th>\n",
       "    </tr>\n",
       "  </thead>\n",
       "  <tbody>\n",
       "    <tr>\n",
       "      <th>0</th>\n",
       "      <td>0</td>\n",
       "      <td>1000</td>\n",
       "      <td>2.704934</td>\n",
       "    </tr>\n",
       "    <tr>\n",
       "      <th>1</th>\n",
       "      <td>0</td>\n",
       "      <td>94</td>\n",
       "      <td>1131.464935</td>\n",
       "    </tr>\n",
       "    <tr>\n",
       "      <th>2</th>\n",
       "      <td>48767</td>\n",
       "      <td>108</td>\n",
       "      <td>566.472247</td>\n",
       "    </tr>\n",
       "    <tr>\n",
       "      <th>3</th>\n",
       "      <td>0</td>\n",
       "      <td>106</td>\n",
       "      <td>529.881344</td>\n",
       "    </tr>\n",
       "    <tr>\n",
       "      <th>4</th>\n",
       "      <td>36357</td>\n",
       "      <td>68</td>\n",
       "      <td>17.269323</td>\n",
       "    </tr>\n",
       "    <tr>\n",
       "      <th>...</th>\n",
       "      <td>...</td>\n",
       "      <td>...</td>\n",
       "      <td>...</td>\n",
       "    </tr>\n",
       "    <tr>\n",
       "      <th>9132</th>\n",
       "      <td>71941</td>\n",
       "      <td>73</td>\n",
       "      <td>198.234764</td>\n",
       "    </tr>\n",
       "    <tr>\n",
       "      <th>9133</th>\n",
       "      <td>21604</td>\n",
       "      <td>79</td>\n",
       "      <td>379.200000</td>\n",
       "    </tr>\n",
       "    <tr>\n",
       "      <th>9134</th>\n",
       "      <td>0</td>\n",
       "      <td>85</td>\n",
       "      <td>790.784983</td>\n",
       "    </tr>\n",
       "    <tr>\n",
       "      <th>9135</th>\n",
       "      <td>21941</td>\n",
       "      <td>96</td>\n",
       "      <td>691.200000</td>\n",
       "    </tr>\n",
       "    <tr>\n",
       "      <th>9136</th>\n",
       "      <td>0</td>\n",
       "      <td>77</td>\n",
       "      <td>369.600000</td>\n",
       "    </tr>\n",
       "  </tbody>\n",
       "</table>\n",
       "<p>9137 rows × 3 columns</p>\n",
       "</div>"
      ],
      "text/plain": [
       "      income  monthly premium auto  total claim amount\n",
       "0          0                  1000            2.704934\n",
       "1          0                    94         1131.464935\n",
       "2      48767                   108          566.472247\n",
       "3          0                   106          529.881344\n",
       "4      36357                    68           17.269323\n",
       "...      ...                   ...                 ...\n",
       "9132   71941                    73          198.234764\n",
       "9133   21604                    79          379.200000\n",
       "9134       0                    85          790.784983\n",
       "9135   21941                    96          691.200000\n",
       "9136       0                    77          369.600000\n",
       "\n",
       "[9137 rows x 3 columns]"
      ]
     },
     "execution_count": 546,
     "metadata": {},
     "output_type": "execute_result"
    }
   ],
   "source": [
    "data_combi.select_dtypes('number')"
   ]
  },
  {
   "cell_type": "markdown",
   "id": "1e06820a-6deb-438f-b8a8-57cf87ffc235",
   "metadata": {},
   "source": [
    "# Which columns are categorical?\n",
    " \n"
   ]
  },
  {
   "cell_type": "code",
   "execution_count": 547,
   "id": "6b1577b1-89d9-4ab9-8f9e-a94c639b7582",
   "metadata": {},
   "outputs": [
    {
     "data": {
      "text/html": [
       "<div>\n",
       "<style scoped>\n",
       "    .dataframe tbody tr th:only-of-type {\n",
       "        vertical-align: middle;\n",
       "    }\n",
       "\n",
       "    .dataframe tbody tr th {\n",
       "        vertical-align: top;\n",
       "    }\n",
       "\n",
       "    .dataframe thead th {\n",
       "        text-align: right;\n",
       "    }\n",
       "</style>\n",
       "<table border=\"1\" class=\"dataframe\">\n",
       "  <thead>\n",
       "    <tr style=\"text-align: right;\">\n",
       "      <th></th>\n",
       "      <th>customer</th>\n",
       "      <th>st</th>\n",
       "      <th>gender</th>\n",
       "      <th>education</th>\n",
       "      <th>customer lifetime value</th>\n",
       "      <th>number of open complaints</th>\n",
       "      <th>policy type</th>\n",
       "      <th>vehicle class</th>\n",
       "    </tr>\n",
       "  </thead>\n",
       "  <tbody>\n",
       "    <tr>\n",
       "      <th>0</th>\n",
       "      <td>RB50392</td>\n",
       "      <td>Washington</td>\n",
       "      <td>NaN</td>\n",
       "      <td>Master</td>\n",
       "      <td>NaN</td>\n",
       "      <td>1/0/00</td>\n",
       "      <td>Personal Auto</td>\n",
       "      <td>Four-Door Car</td>\n",
       "    </tr>\n",
       "    <tr>\n",
       "      <th>1</th>\n",
       "      <td>QZ44356</td>\n",
       "      <td>Arizona</td>\n",
       "      <td>F</td>\n",
       "      <td>Bachelor</td>\n",
       "      <td>697953.59%</td>\n",
       "      <td>1/0/00</td>\n",
       "      <td>Personal Auto</td>\n",
       "      <td>Four-Door Car</td>\n",
       "    </tr>\n",
       "    <tr>\n",
       "      <th>2</th>\n",
       "      <td>AI49188</td>\n",
       "      <td>Nevada</td>\n",
       "      <td>F</td>\n",
       "      <td>Bachelor</td>\n",
       "      <td>1288743.17%</td>\n",
       "      <td>1/0/00</td>\n",
       "      <td>Personal Auto</td>\n",
       "      <td>Two-Door Car</td>\n",
       "    </tr>\n",
       "    <tr>\n",
       "      <th>3</th>\n",
       "      <td>WW63253</td>\n",
       "      <td>California</td>\n",
       "      <td>M</td>\n",
       "      <td>Bachelor</td>\n",
       "      <td>764586.18%</td>\n",
       "      <td>1/0/00</td>\n",
       "      <td>Corporate Auto</td>\n",
       "      <td>SUV</td>\n",
       "    </tr>\n",
       "    <tr>\n",
       "      <th>4</th>\n",
       "      <td>GA49547</td>\n",
       "      <td>Washington</td>\n",
       "      <td>M</td>\n",
       "      <td>High School or Below</td>\n",
       "      <td>536307.65%</td>\n",
       "      <td>1/0/00</td>\n",
       "      <td>Personal Auto</td>\n",
       "      <td>Four-Door Car</td>\n",
       "    </tr>\n",
       "    <tr>\n",
       "      <th>...</th>\n",
       "      <td>...</td>\n",
       "      <td>...</td>\n",
       "      <td>...</td>\n",
       "      <td>...</td>\n",
       "      <td>...</td>\n",
       "      <td>...</td>\n",
       "      <td>...</td>\n",
       "      <td>...</td>\n",
       "    </tr>\n",
       "    <tr>\n",
       "      <th>9132</th>\n",
       "      <td>LA72316</td>\n",
       "      <td>California</td>\n",
       "      <td>M</td>\n",
       "      <td>Bachelor</td>\n",
       "      <td>23405.98798</td>\n",
       "      <td>0</td>\n",
       "      <td>Personal Auto</td>\n",
       "      <td>Four-Door Car</td>\n",
       "    </tr>\n",
       "    <tr>\n",
       "      <th>9133</th>\n",
       "      <td>PK87824</td>\n",
       "      <td>California</td>\n",
       "      <td>F</td>\n",
       "      <td>College</td>\n",
       "      <td>3096.511217</td>\n",
       "      <td>0</td>\n",
       "      <td>Corporate Auto</td>\n",
       "      <td>Four-Door Car</td>\n",
       "    </tr>\n",
       "    <tr>\n",
       "      <th>9134</th>\n",
       "      <td>TD14365</td>\n",
       "      <td>California</td>\n",
       "      <td>M</td>\n",
       "      <td>Bachelor</td>\n",
       "      <td>8163.890428</td>\n",
       "      <td>3</td>\n",
       "      <td>Corporate Auto</td>\n",
       "      <td>Four-Door Car</td>\n",
       "    </tr>\n",
       "    <tr>\n",
       "      <th>9135</th>\n",
       "      <td>UP19263</td>\n",
       "      <td>California</td>\n",
       "      <td>M</td>\n",
       "      <td>College</td>\n",
       "      <td>7524.442436</td>\n",
       "      <td>0</td>\n",
       "      <td>Personal Auto</td>\n",
       "      <td>Four-Door Car</td>\n",
       "    </tr>\n",
       "    <tr>\n",
       "      <th>9136</th>\n",
       "      <td>Y167826</td>\n",
       "      <td>California</td>\n",
       "      <td>M</td>\n",
       "      <td>College</td>\n",
       "      <td>2611.836866</td>\n",
       "      <td>0</td>\n",
       "      <td>Corporate Auto</td>\n",
       "      <td>Two-Door Car</td>\n",
       "    </tr>\n",
       "  </tbody>\n",
       "</table>\n",
       "<p>9137 rows × 8 columns</p>\n",
       "</div>"
      ],
      "text/plain": [
       "     customer          st gender             education  \\\n",
       "0     RB50392  Washington    NaN                Master   \n",
       "1     QZ44356     Arizona      F              Bachelor   \n",
       "2     AI49188      Nevada      F              Bachelor   \n",
       "3     WW63253  California      M              Bachelor   \n",
       "4     GA49547  Washington      M  High School or Below   \n",
       "...       ...         ...    ...                   ...   \n",
       "9132  LA72316  California      M              Bachelor   \n",
       "9133  PK87824  California      F               College   \n",
       "9134  TD14365  California      M              Bachelor   \n",
       "9135  UP19263  California      M               College   \n",
       "9136  Y167826  California      M               College   \n",
       "\n",
       "     customer lifetime value number of open complaints     policy type  \\\n",
       "0                        NaN                    1/0/00   Personal Auto   \n",
       "1                 697953.59%                    1/0/00   Personal Auto   \n",
       "2                1288743.17%                    1/0/00   Personal Auto   \n",
       "3                 764586.18%                    1/0/00  Corporate Auto   \n",
       "4                 536307.65%                    1/0/00   Personal Auto   \n",
       "...                      ...                       ...             ...   \n",
       "9132             23405.98798                         0   Personal Auto   \n",
       "9133             3096.511217                         0  Corporate Auto   \n",
       "9134             8163.890428                         3  Corporate Auto   \n",
       "9135             7524.442436                         0   Personal Auto   \n",
       "9136             2611.836866                         0  Corporate Auto   \n",
       "\n",
       "      vehicle class  \n",
       "0     Four-Door Car  \n",
       "1     Four-Door Car  \n",
       "2      Two-Door Car  \n",
       "3               SUV  \n",
       "4     Four-Door Car  \n",
       "...             ...  \n",
       "9132  Four-Door Car  \n",
       "9133  Four-Door Car  \n",
       "9134  Four-Door Car  \n",
       "9135  Four-Door Car  \n",
       "9136   Two-Door Car  \n",
       "\n",
       "[9137 rows x 8 columns]"
      ]
     },
     "execution_count": 547,
     "metadata": {},
     "output_type": "execute_result"
    }
   ],
   "source": [
    "data_combi.select_dtypes('object')"
   ]
  },
  {
   "cell_type": "markdown",
   "id": "5cce849f-0a8c-40c0-96da-dc0f1a15090e",
   "metadata": {},
   "source": [
    "# Understand the meaning of all columns\n",
    "\n"
   ]
  },
  {
   "cell_type": "code",
   "execution_count": 548,
   "id": "33d31427-1b23-4b71-a433-af9c1c1d4f3f",
   "metadata": {},
   "outputs": [
    {
     "data": {
      "text/plain": [
       "customer                      object\n",
       "st                            object\n",
       "gender                        object\n",
       "education                     object\n",
       "customer lifetime value       object\n",
       "income                         int64\n",
       "monthly premium auto           int64\n",
       "number of open complaints     object\n",
       "policy type                   object\n",
       "vehicle class                 object\n",
       "total claim amount           float64\n",
       "dtype: object"
      ]
     },
     "execution_count": 548,
     "metadata": {},
     "output_type": "execute_result"
    }
   ],
   "source": [
    "data_combi.dtypes"
   ]
  },
  {
   "cell_type": "code",
   "execution_count": 549,
   "id": "b41667d8-68c4-436c-8818-df314fe43166",
   "metadata": {},
   "outputs": [
    {
     "data": {
      "text/plain": [
       "16468.220790    6\n",
       "5246.278375     6\n",
       "22332.439460    6\n",
       "4270.034394     6\n",
       "5107.163002     6\n",
       "               ..\n",
       "7477.176362     1\n",
       "15700.284360    1\n",
       "2968.077571     1\n",
       "5452.171237     1\n",
       "2611.836866     1\n",
       "Name: customer lifetime value, Length: 8211, dtype: int64"
      ]
     },
     "execution_count": 549,
     "metadata": {},
     "output_type": "execute_result"
    }
   ],
   "source": [
    "data_combi['customer lifetime value'].value_counts()"
   ]
  },
  {
   "cell_type": "markdown",
   "id": "8a06d0ac-0c82-4745-9b99-f97ab42a8a44",
   "metadata": {},
   "source": [
    "# Perform the data cleaning operations mentioned so far in class"
   ]
  },
  {
   "cell_type": "markdown",
   "id": "215cdeac-1e54-414b-bfac-f6d5558fcc2a",
   "metadata": {},
   "source": [
    "### Delete the column education and the number of open complaints from the dataframe.\n"
   ]
  },
  {
   "cell_type": "code",
   "execution_count": 550,
   "id": "17c3a44b-1617-4207-8cdf-70b12ab89ee7",
   "metadata": {},
   "outputs": [],
   "source": [
    "to_drop = ['education','number of open complaints']"
   ]
  },
  {
   "cell_type": "code",
   "execution_count": 551,
   "id": "eaa3e08a-39fd-4daa-9402-844eae42872e",
   "metadata": {},
   "outputs": [],
   "source": [
    "data_combi = data_combi.drop(to_drop, axis = 1 )"
   ]
  },
  {
   "cell_type": "code",
   "execution_count": 552,
   "id": "cd28e3e7-5475-470b-9a41-167c03e00893",
   "metadata": {},
   "outputs": [
    {
     "data": {
      "text/html": [
       "<div>\n",
       "<style scoped>\n",
       "    .dataframe tbody tr th:only-of-type {\n",
       "        vertical-align: middle;\n",
       "    }\n",
       "\n",
       "    .dataframe tbody tr th {\n",
       "        vertical-align: top;\n",
       "    }\n",
       "\n",
       "    .dataframe thead th {\n",
       "        text-align: right;\n",
       "    }\n",
       "</style>\n",
       "<table border=\"1\" class=\"dataframe\">\n",
       "  <thead>\n",
       "    <tr style=\"text-align: right;\">\n",
       "      <th></th>\n",
       "      <th>customer</th>\n",
       "      <th>st</th>\n",
       "      <th>gender</th>\n",
       "      <th>customer lifetime value</th>\n",
       "      <th>income</th>\n",
       "      <th>monthly premium auto</th>\n",
       "      <th>policy type</th>\n",
       "      <th>vehicle class</th>\n",
       "      <th>total claim amount</th>\n",
       "    </tr>\n",
       "  </thead>\n",
       "  <tbody>\n",
       "    <tr>\n",
       "      <th>0</th>\n",
       "      <td>RB50392</td>\n",
       "      <td>Washington</td>\n",
       "      <td>NaN</td>\n",
       "      <td>NaN</td>\n",
       "      <td>0</td>\n",
       "      <td>1000</td>\n",
       "      <td>Personal Auto</td>\n",
       "      <td>Four-Door Car</td>\n",
       "      <td>2.704934</td>\n",
       "    </tr>\n",
       "    <tr>\n",
       "      <th>1</th>\n",
       "      <td>QZ44356</td>\n",
       "      <td>Arizona</td>\n",
       "      <td>F</td>\n",
       "      <td>697953.59%</td>\n",
       "      <td>0</td>\n",
       "      <td>94</td>\n",
       "      <td>Personal Auto</td>\n",
       "      <td>Four-Door Car</td>\n",
       "      <td>1131.464935</td>\n",
       "    </tr>\n",
       "    <tr>\n",
       "      <th>2</th>\n",
       "      <td>AI49188</td>\n",
       "      <td>Nevada</td>\n",
       "      <td>F</td>\n",
       "      <td>1288743.17%</td>\n",
       "      <td>48767</td>\n",
       "      <td>108</td>\n",
       "      <td>Personal Auto</td>\n",
       "      <td>Two-Door Car</td>\n",
       "      <td>566.472247</td>\n",
       "    </tr>\n",
       "    <tr>\n",
       "      <th>3</th>\n",
       "      <td>WW63253</td>\n",
       "      <td>California</td>\n",
       "      <td>M</td>\n",
       "      <td>764586.18%</td>\n",
       "      <td>0</td>\n",
       "      <td>106</td>\n",
       "      <td>Corporate Auto</td>\n",
       "      <td>SUV</td>\n",
       "      <td>529.881344</td>\n",
       "    </tr>\n",
       "    <tr>\n",
       "      <th>4</th>\n",
       "      <td>GA49547</td>\n",
       "      <td>Washington</td>\n",
       "      <td>M</td>\n",
       "      <td>536307.65%</td>\n",
       "      <td>36357</td>\n",
       "      <td>68</td>\n",
       "      <td>Personal Auto</td>\n",
       "      <td>Four-Door Car</td>\n",
       "      <td>17.269323</td>\n",
       "    </tr>\n",
       "    <tr>\n",
       "      <th>...</th>\n",
       "      <td>...</td>\n",
       "      <td>...</td>\n",
       "      <td>...</td>\n",
       "      <td>...</td>\n",
       "      <td>...</td>\n",
       "      <td>...</td>\n",
       "      <td>...</td>\n",
       "      <td>...</td>\n",
       "      <td>...</td>\n",
       "    </tr>\n",
       "    <tr>\n",
       "      <th>9132</th>\n",
       "      <td>LA72316</td>\n",
       "      <td>California</td>\n",
       "      <td>M</td>\n",
       "      <td>23405.98798</td>\n",
       "      <td>71941</td>\n",
       "      <td>73</td>\n",
       "      <td>Personal Auto</td>\n",
       "      <td>Four-Door Car</td>\n",
       "      <td>198.234764</td>\n",
       "    </tr>\n",
       "    <tr>\n",
       "      <th>9133</th>\n",
       "      <td>PK87824</td>\n",
       "      <td>California</td>\n",
       "      <td>F</td>\n",
       "      <td>3096.511217</td>\n",
       "      <td>21604</td>\n",
       "      <td>79</td>\n",
       "      <td>Corporate Auto</td>\n",
       "      <td>Four-Door Car</td>\n",
       "      <td>379.200000</td>\n",
       "    </tr>\n",
       "    <tr>\n",
       "      <th>9134</th>\n",
       "      <td>TD14365</td>\n",
       "      <td>California</td>\n",
       "      <td>M</td>\n",
       "      <td>8163.890428</td>\n",
       "      <td>0</td>\n",
       "      <td>85</td>\n",
       "      <td>Corporate Auto</td>\n",
       "      <td>Four-Door Car</td>\n",
       "      <td>790.784983</td>\n",
       "    </tr>\n",
       "    <tr>\n",
       "      <th>9135</th>\n",
       "      <td>UP19263</td>\n",
       "      <td>California</td>\n",
       "      <td>M</td>\n",
       "      <td>7524.442436</td>\n",
       "      <td>21941</td>\n",
       "      <td>96</td>\n",
       "      <td>Personal Auto</td>\n",
       "      <td>Four-Door Car</td>\n",
       "      <td>691.200000</td>\n",
       "    </tr>\n",
       "    <tr>\n",
       "      <th>9136</th>\n",
       "      <td>Y167826</td>\n",
       "      <td>California</td>\n",
       "      <td>M</td>\n",
       "      <td>2611.836866</td>\n",
       "      <td>0</td>\n",
       "      <td>77</td>\n",
       "      <td>Corporate Auto</td>\n",
       "      <td>Two-Door Car</td>\n",
       "      <td>369.600000</td>\n",
       "    </tr>\n",
       "  </tbody>\n",
       "</table>\n",
       "<p>9137 rows × 9 columns</p>\n",
       "</div>"
      ],
      "text/plain": [
       "     customer          st gender customer lifetime value  income  \\\n",
       "0     RB50392  Washington    NaN                     NaN       0   \n",
       "1     QZ44356     Arizona      F              697953.59%       0   \n",
       "2     AI49188      Nevada      F             1288743.17%   48767   \n",
       "3     WW63253  California      M              764586.18%       0   \n",
       "4     GA49547  Washington      M              536307.65%   36357   \n",
       "...       ...         ...    ...                     ...     ...   \n",
       "9132  LA72316  California      M             23405.98798   71941   \n",
       "9133  PK87824  California      F             3096.511217   21604   \n",
       "9134  TD14365  California      M             8163.890428       0   \n",
       "9135  UP19263  California      M             7524.442436   21941   \n",
       "9136  Y167826  California      M             2611.836866       0   \n",
       "\n",
       "      monthly premium auto     policy type  vehicle class  total claim amount  \n",
       "0                     1000   Personal Auto  Four-Door Car            2.704934  \n",
       "1                       94   Personal Auto  Four-Door Car         1131.464935  \n",
       "2                      108   Personal Auto   Two-Door Car          566.472247  \n",
       "3                      106  Corporate Auto            SUV          529.881344  \n",
       "4                       68   Personal Auto  Four-Door Car           17.269323  \n",
       "...                    ...             ...            ...                 ...  \n",
       "9132                    73   Personal Auto  Four-Door Car          198.234764  \n",
       "9133                    79  Corporate Auto  Four-Door Car          379.200000  \n",
       "9134                    85  Corporate Auto  Four-Door Car          790.784983  \n",
       "9135                    96   Personal Auto  Four-Door Car          691.200000  \n",
       "9136                    77  Corporate Auto   Two-Door Car          369.600000  \n",
       "\n",
       "[9137 rows x 9 columns]"
      ]
     },
     "execution_count": 552,
     "metadata": {},
     "output_type": "execute_result"
    }
   ],
   "source": [
    "data_combi"
   ]
  },
  {
   "cell_type": "markdown",
   "id": "61d216b9-5cfb-4e64-8653-a304c5129833",
   "metadata": {},
   "source": [
    "### Correct the values in the column customer lifetime value. They are given as a percent, so multiply (typo in project, should be ***divide***) them by 100 and change dtype to numerical type.\n"
   ]
  },
  {
   "cell_type": "code",
   "execution_count": 553,
   "id": "226f53e7-8c9b-433d-bed3-7ab12c0b22fe",
   "metadata": {},
   "outputs": [],
   "source": [
    "data_combi['customer lifetime value'] = data_combi['customer lifetime value'].replace('%$','', regex = True) "
   ]
  },
  {
   "cell_type": "code",
   "execution_count": 554,
   "id": "64dcb42a-05fe-4d8e-8c4f-175475f383c9",
   "metadata": {},
   "outputs": [],
   "source": [
    "# data_combi['customer lifetime value'] = data_combi['customer lifetime value'].str.replace('%$','', regex = True)\n",
    "#Question"
   ]
  },
  {
   "cell_type": "code",
   "execution_count": 555,
   "id": "9237123e-fdf7-4971-9194-0dc770ee9f6d",
   "metadata": {},
   "outputs": [
    {
     "data": {
      "text/plain": [
       "0               NaN\n",
       "1         697953.59\n",
       "2        1288743.17\n",
       "3         764586.18\n",
       "4         536307.65\n",
       "           ...     \n",
       "9132    23405.98798\n",
       "9133    3096.511217\n",
       "9134    8163.890428\n",
       "9135    7524.442436\n",
       "9136    2611.836866\n",
       "Name: customer lifetime value, Length: 9137, dtype: object"
      ]
     },
     "execution_count": 555,
     "metadata": {},
     "output_type": "execute_result"
    }
   ],
   "source": [
    "data_combi['customer lifetime value']"
   ]
  },
  {
   "cell_type": "code",
   "execution_count": 556,
   "id": "8bbcb1ed-4343-4046-9903-21ce85c20c9c",
   "metadata": {},
   "outputs": [
    {
     "data": {
      "text/html": [
       "<div>\n",
       "<style scoped>\n",
       "    .dataframe tbody tr th:only-of-type {\n",
       "        vertical-align: middle;\n",
       "    }\n",
       "\n",
       "    .dataframe tbody tr th {\n",
       "        vertical-align: top;\n",
       "    }\n",
       "\n",
       "    .dataframe thead th {\n",
       "        text-align: right;\n",
       "    }\n",
       "</style>\n",
       "<table border=\"1\" class=\"dataframe\">\n",
       "  <thead>\n",
       "    <tr style=\"text-align: right;\">\n",
       "      <th></th>\n",
       "      <th>customer</th>\n",
       "      <th>st</th>\n",
       "      <th>gender</th>\n",
       "      <th>customer lifetime value</th>\n",
       "      <th>income</th>\n",
       "      <th>monthly premium auto</th>\n",
       "      <th>policy type</th>\n",
       "      <th>vehicle class</th>\n",
       "      <th>total claim amount</th>\n",
       "    </tr>\n",
       "  </thead>\n",
       "  <tbody>\n",
       "    <tr>\n",
       "      <th>0</th>\n",
       "      <td>RB50392</td>\n",
       "      <td>Washington</td>\n",
       "      <td>NaN</td>\n",
       "      <td>NaN</td>\n",
       "      <td>0</td>\n",
       "      <td>1000</td>\n",
       "      <td>Personal Auto</td>\n",
       "      <td>Four-Door Car</td>\n",
       "      <td>2.704934</td>\n",
       "    </tr>\n",
       "    <tr>\n",
       "      <th>1</th>\n",
       "      <td>QZ44356</td>\n",
       "      <td>Arizona</td>\n",
       "      <td>F</td>\n",
       "      <td>697953.59</td>\n",
       "      <td>0</td>\n",
       "      <td>94</td>\n",
       "      <td>Personal Auto</td>\n",
       "      <td>Four-Door Car</td>\n",
       "      <td>1131.464935</td>\n",
       "    </tr>\n",
       "    <tr>\n",
       "      <th>2</th>\n",
       "      <td>AI49188</td>\n",
       "      <td>Nevada</td>\n",
       "      <td>F</td>\n",
       "      <td>1288743.17</td>\n",
       "      <td>48767</td>\n",
       "      <td>108</td>\n",
       "      <td>Personal Auto</td>\n",
       "      <td>Two-Door Car</td>\n",
       "      <td>566.472247</td>\n",
       "    </tr>\n",
       "    <tr>\n",
       "      <th>3</th>\n",
       "      <td>WW63253</td>\n",
       "      <td>California</td>\n",
       "      <td>M</td>\n",
       "      <td>764586.18</td>\n",
       "      <td>0</td>\n",
       "      <td>106</td>\n",
       "      <td>Corporate Auto</td>\n",
       "      <td>SUV</td>\n",
       "      <td>529.881344</td>\n",
       "    </tr>\n",
       "    <tr>\n",
       "      <th>4</th>\n",
       "      <td>GA49547</td>\n",
       "      <td>Washington</td>\n",
       "      <td>M</td>\n",
       "      <td>536307.65</td>\n",
       "      <td>36357</td>\n",
       "      <td>68</td>\n",
       "      <td>Personal Auto</td>\n",
       "      <td>Four-Door Car</td>\n",
       "      <td>17.269323</td>\n",
       "    </tr>\n",
       "    <tr>\n",
       "      <th>...</th>\n",
       "      <td>...</td>\n",
       "      <td>...</td>\n",
       "      <td>...</td>\n",
       "      <td>...</td>\n",
       "      <td>...</td>\n",
       "      <td>...</td>\n",
       "      <td>...</td>\n",
       "      <td>...</td>\n",
       "      <td>...</td>\n",
       "    </tr>\n",
       "    <tr>\n",
       "      <th>9132</th>\n",
       "      <td>LA72316</td>\n",
       "      <td>California</td>\n",
       "      <td>M</td>\n",
       "      <td>23405.98798</td>\n",
       "      <td>71941</td>\n",
       "      <td>73</td>\n",
       "      <td>Personal Auto</td>\n",
       "      <td>Four-Door Car</td>\n",
       "      <td>198.234764</td>\n",
       "    </tr>\n",
       "    <tr>\n",
       "      <th>9133</th>\n",
       "      <td>PK87824</td>\n",
       "      <td>California</td>\n",
       "      <td>F</td>\n",
       "      <td>3096.511217</td>\n",
       "      <td>21604</td>\n",
       "      <td>79</td>\n",
       "      <td>Corporate Auto</td>\n",
       "      <td>Four-Door Car</td>\n",
       "      <td>379.200000</td>\n",
       "    </tr>\n",
       "    <tr>\n",
       "      <th>9134</th>\n",
       "      <td>TD14365</td>\n",
       "      <td>California</td>\n",
       "      <td>M</td>\n",
       "      <td>8163.890428</td>\n",
       "      <td>0</td>\n",
       "      <td>85</td>\n",
       "      <td>Corporate Auto</td>\n",
       "      <td>Four-Door Car</td>\n",
       "      <td>790.784983</td>\n",
       "    </tr>\n",
       "    <tr>\n",
       "      <th>9135</th>\n",
       "      <td>UP19263</td>\n",
       "      <td>California</td>\n",
       "      <td>M</td>\n",
       "      <td>7524.442436</td>\n",
       "      <td>21941</td>\n",
       "      <td>96</td>\n",
       "      <td>Personal Auto</td>\n",
       "      <td>Four-Door Car</td>\n",
       "      <td>691.200000</td>\n",
       "    </tr>\n",
       "    <tr>\n",
       "      <th>9136</th>\n",
       "      <td>Y167826</td>\n",
       "      <td>California</td>\n",
       "      <td>M</td>\n",
       "      <td>2611.836866</td>\n",
       "      <td>0</td>\n",
       "      <td>77</td>\n",
       "      <td>Corporate Auto</td>\n",
       "      <td>Two-Door Car</td>\n",
       "      <td>369.600000</td>\n",
       "    </tr>\n",
       "  </tbody>\n",
       "</table>\n",
       "<p>9137 rows × 9 columns</p>\n",
       "</div>"
      ],
      "text/plain": [
       "     customer          st gender customer lifetime value  income  \\\n",
       "0     RB50392  Washington    NaN                     NaN       0   \n",
       "1     QZ44356     Arizona      F               697953.59       0   \n",
       "2     AI49188      Nevada      F              1288743.17   48767   \n",
       "3     WW63253  California      M               764586.18       0   \n",
       "4     GA49547  Washington      M               536307.65   36357   \n",
       "...       ...         ...    ...                     ...     ...   \n",
       "9132  LA72316  California      M             23405.98798   71941   \n",
       "9133  PK87824  California      F             3096.511217   21604   \n",
       "9134  TD14365  California      M             8163.890428       0   \n",
       "9135  UP19263  California      M             7524.442436   21941   \n",
       "9136  Y167826  California      M             2611.836866       0   \n",
       "\n",
       "      monthly premium auto     policy type  vehicle class  total claim amount  \n",
       "0                     1000   Personal Auto  Four-Door Car            2.704934  \n",
       "1                       94   Personal Auto  Four-Door Car         1131.464935  \n",
       "2                      108   Personal Auto   Two-Door Car          566.472247  \n",
       "3                      106  Corporate Auto            SUV          529.881344  \n",
       "4                       68   Personal Auto  Four-Door Car           17.269323  \n",
       "...                    ...             ...            ...                 ...  \n",
       "9132                    73   Personal Auto  Four-Door Car          198.234764  \n",
       "9133                    79  Corporate Auto  Four-Door Car          379.200000  \n",
       "9134                    85  Corporate Auto  Four-Door Car          790.784983  \n",
       "9135                    96   Personal Auto  Four-Door Car          691.200000  \n",
       "9136                    77  Corporate Auto   Two-Door Car          369.600000  \n",
       "\n",
       "[9137 rows x 9 columns]"
      ]
     },
     "execution_count": 556,
     "metadata": {},
     "output_type": "execute_result"
    }
   ],
   "source": [
    "data_combi"
   ]
  },
  {
   "cell_type": "code",
   "execution_count": 557,
   "id": "d888d31b-8943-439c-a6aa-f6d9250b30e7",
   "metadata": {},
   "outputs": [],
   "source": [
    "data_combi['customer lifetime value'] = pd.to_numeric(data_combi['customer lifetime value']) # no inplace option, gotta reset it"
   ]
  },
  {
   "cell_type": "code",
   "execution_count": 558,
   "id": "33a0320b-7050-4e96-aaef-d993f9e7e0d1",
   "metadata": {},
   "outputs": [
    {
     "data": {
      "text/plain": [
       "customer                    object\n",
       "st                          object\n",
       "gender                      object\n",
       "customer lifetime value    float64\n",
       "income                       int64\n",
       "monthly premium auto         int64\n",
       "policy type                 object\n",
       "vehicle class               object\n",
       "total claim amount         float64\n",
       "dtype: object"
      ]
     },
     "execution_count": 558,
     "metadata": {},
     "output_type": "execute_result"
    }
   ],
   "source": [
    "data_combi.dtypes"
   ]
  },
  {
   "cell_type": "code",
   "execution_count": 559,
   "id": "260a9767-c7d2-4d53-966f-3b4efd66ad1c",
   "metadata": {},
   "outputs": [
    {
     "data": {
      "text/plain": [
       "0                NaN\n",
       "1       6.979536e+05\n",
       "2       1.288743e+06\n",
       "3       7.645862e+05\n",
       "4       5.363077e+05\n",
       "            ...     \n",
       "9132    2.340599e+04\n",
       "9133    3.096511e+03\n",
       "9134    8.163890e+03\n",
       "9135    7.524442e+03\n",
       "9136    2.611837e+03\n",
       "Name: customer lifetime value, Length: 9137, dtype: float64"
      ]
     },
     "execution_count": 559,
     "metadata": {},
     "output_type": "execute_result"
    }
   ],
   "source": [
    "pd.to_numeric(data_combi['customer lifetime value'], errors = 'coerce')"
   ]
  },
  {
   "cell_type": "code",
   "execution_count": 560,
   "id": "d0bbc064-c7d5-4ff2-ba61-d082ee4b91c3",
   "metadata": {},
   "outputs": [
    {
     "data": {
      "text/plain": [
       "7"
      ]
     },
     "execution_count": 560,
     "metadata": {},
     "output_type": "execute_result"
    }
   ],
   "source": [
    "data_combi['customer lifetime value'].isna().sum()"
   ]
  },
  {
   "cell_type": "code",
   "execution_count": 561,
   "id": "c75434e6-c0c2-4cad-97da-5d42caf4a0dd",
   "metadata": {},
   "outputs": [
    {
     "data": {
      "text/html": [
       "<div>\n",
       "<style scoped>\n",
       "    .dataframe tbody tr th:only-of-type {\n",
       "        vertical-align: middle;\n",
       "    }\n",
       "\n",
       "    .dataframe tbody tr th {\n",
       "        vertical-align: top;\n",
       "    }\n",
       "\n",
       "    .dataframe thead th {\n",
       "        text-align: right;\n",
       "    }\n",
       "</style>\n",
       "<table border=\"1\" class=\"dataframe\">\n",
       "  <thead>\n",
       "    <tr style=\"text-align: right;\">\n",
       "      <th></th>\n",
       "      <th>customer</th>\n",
       "      <th>st</th>\n",
       "      <th>gender</th>\n",
       "      <th>policy type</th>\n",
       "      <th>vehicle class</th>\n",
       "    </tr>\n",
       "  </thead>\n",
       "  <tbody>\n",
       "    <tr>\n",
       "      <th>0</th>\n",
       "      <td>RB50392</td>\n",
       "      <td>Washington</td>\n",
       "      <td>NaN</td>\n",
       "      <td>Personal Auto</td>\n",
       "      <td>Four-Door Car</td>\n",
       "    </tr>\n",
       "    <tr>\n",
       "      <th>1</th>\n",
       "      <td>QZ44356</td>\n",
       "      <td>Arizona</td>\n",
       "      <td>F</td>\n",
       "      <td>Personal Auto</td>\n",
       "      <td>Four-Door Car</td>\n",
       "    </tr>\n",
       "    <tr>\n",
       "      <th>2</th>\n",
       "      <td>AI49188</td>\n",
       "      <td>Nevada</td>\n",
       "      <td>F</td>\n",
       "      <td>Personal Auto</td>\n",
       "      <td>Two-Door Car</td>\n",
       "    </tr>\n",
       "    <tr>\n",
       "      <th>3</th>\n",
       "      <td>WW63253</td>\n",
       "      <td>California</td>\n",
       "      <td>M</td>\n",
       "      <td>Corporate Auto</td>\n",
       "      <td>SUV</td>\n",
       "    </tr>\n",
       "    <tr>\n",
       "      <th>4</th>\n",
       "      <td>GA49547</td>\n",
       "      <td>Washington</td>\n",
       "      <td>M</td>\n",
       "      <td>Personal Auto</td>\n",
       "      <td>Four-Door Car</td>\n",
       "    </tr>\n",
       "    <tr>\n",
       "      <th>...</th>\n",
       "      <td>...</td>\n",
       "      <td>...</td>\n",
       "      <td>...</td>\n",
       "      <td>...</td>\n",
       "      <td>...</td>\n",
       "    </tr>\n",
       "    <tr>\n",
       "      <th>9132</th>\n",
       "      <td>LA72316</td>\n",
       "      <td>California</td>\n",
       "      <td>M</td>\n",
       "      <td>Personal Auto</td>\n",
       "      <td>Four-Door Car</td>\n",
       "    </tr>\n",
       "    <tr>\n",
       "      <th>9133</th>\n",
       "      <td>PK87824</td>\n",
       "      <td>California</td>\n",
       "      <td>F</td>\n",
       "      <td>Corporate Auto</td>\n",
       "      <td>Four-Door Car</td>\n",
       "    </tr>\n",
       "    <tr>\n",
       "      <th>9134</th>\n",
       "      <td>TD14365</td>\n",
       "      <td>California</td>\n",
       "      <td>M</td>\n",
       "      <td>Corporate Auto</td>\n",
       "      <td>Four-Door Car</td>\n",
       "    </tr>\n",
       "    <tr>\n",
       "      <th>9135</th>\n",
       "      <td>UP19263</td>\n",
       "      <td>California</td>\n",
       "      <td>M</td>\n",
       "      <td>Personal Auto</td>\n",
       "      <td>Four-Door Car</td>\n",
       "    </tr>\n",
       "    <tr>\n",
       "      <th>9136</th>\n",
       "      <td>Y167826</td>\n",
       "      <td>California</td>\n",
       "      <td>M</td>\n",
       "      <td>Corporate Auto</td>\n",
       "      <td>Two-Door Car</td>\n",
       "    </tr>\n",
       "  </tbody>\n",
       "</table>\n",
       "<p>9137 rows × 5 columns</p>\n",
       "</div>"
      ],
      "text/plain": [
       "     customer          st gender     policy type  vehicle class\n",
       "0     RB50392  Washington    NaN   Personal Auto  Four-Door Car\n",
       "1     QZ44356     Arizona      F   Personal Auto  Four-Door Car\n",
       "2     AI49188      Nevada      F   Personal Auto   Two-Door Car\n",
       "3     WW63253  California      M  Corporate Auto            SUV\n",
       "4     GA49547  Washington      M   Personal Auto  Four-Door Car\n",
       "...       ...         ...    ...             ...            ...\n",
       "9132  LA72316  California      M   Personal Auto  Four-Door Car\n",
       "9133  PK87824  California      F  Corporate Auto  Four-Door Car\n",
       "9134  TD14365  California      M  Corporate Auto  Four-Door Car\n",
       "9135  UP19263  California      M   Personal Auto  Four-Door Car\n",
       "9136  Y167826  California      M  Corporate Auto   Two-Door Car\n",
       "\n",
       "[9137 rows x 5 columns]"
      ]
     },
     "execution_count": 561,
     "metadata": {},
     "output_type": "execute_result"
    }
   ],
   "source": [
    "data_combi.select_dtypes('object')"
   ]
  },
  {
   "cell_type": "markdown",
   "id": "dc91c335-7a8f-4464-8fa4-70498abcfca0",
   "metadata": {},
   "source": [
    "### Check for duplicate rows in the data and remove if any.\n"
   ]
  },
  {
   "cell_type": "code",
   "execution_count": 570,
   "id": "93343977-6a97-4ed9-9350-313ae9b427e9",
   "metadata": {},
   "outputs": [
    {
     "data": {
      "text/plain": [
       "3"
      ]
     },
     "execution_count": 570,
     "metadata": {},
     "output_type": "execute_result"
    }
   ],
   "source": [
    "#Checks for duplicate rows\n",
    "data_combi.duplicated().sum()"
   ]
  },
  {
   "cell_type": "code",
   "execution_count": 571,
   "id": "b3854d03-b916-41df-94ee-34b754b640da",
   "metadata": {},
   "outputs": [],
   "source": [
    "data_combi.drop_duplicates(inplace = True)"
   ]
  },
  {
   "cell_type": "code",
   "execution_count": 580,
   "id": "b3a66458-d199-4ffb-a51c-2ca08ac0907b",
   "metadata": {},
   "outputs": [
    {
     "data": {
      "text/html": [
       "<div>\n",
       "<style scoped>\n",
       "    .dataframe tbody tr th:only-of-type {\n",
       "        vertical-align: middle;\n",
       "    }\n",
       "\n",
       "    .dataframe tbody tr th {\n",
       "        vertical-align: top;\n",
       "    }\n",
       "\n",
       "    .dataframe thead th {\n",
       "        text-align: right;\n",
       "    }\n",
       "</style>\n",
       "<table border=\"1\" class=\"dataframe\">\n",
       "  <thead>\n",
       "    <tr style=\"text-align: right;\">\n",
       "      <th></th>\n",
       "      <th>customer</th>\n",
       "      <th>st</th>\n",
       "      <th>gender</th>\n",
       "      <th>customer lifetime value</th>\n",
       "      <th>income</th>\n",
       "      <th>monthly premium auto</th>\n",
       "      <th>policy type</th>\n",
       "      <th>vehicle class</th>\n",
       "      <th>total claim amount</th>\n",
       "    </tr>\n",
       "  </thead>\n",
       "  <tbody>\n",
       "    <tr>\n",
       "      <th>0</th>\n",
       "      <td>RB50392</td>\n",
       "      <td>Washington</td>\n",
       "      <td>NaN</td>\n",
       "      <td>NaN</td>\n",
       "      <td>0</td>\n",
       "      <td>1000</td>\n",
       "      <td>Personal Auto</td>\n",
       "      <td>Four-Door Car</td>\n",
       "      <td>2.704934</td>\n",
       "    </tr>\n",
       "    <tr>\n",
       "      <th>1</th>\n",
       "      <td>QZ44356</td>\n",
       "      <td>Arizona</td>\n",
       "      <td>F</td>\n",
       "      <td>6.979536e+05</td>\n",
       "      <td>0</td>\n",
       "      <td>94</td>\n",
       "      <td>Personal Auto</td>\n",
       "      <td>Four-Door Car</td>\n",
       "      <td>1131.464935</td>\n",
       "    </tr>\n",
       "    <tr>\n",
       "      <th>2</th>\n",
       "      <td>AI49188</td>\n",
       "      <td>Nevada</td>\n",
       "      <td>F</td>\n",
       "      <td>1.288743e+06</td>\n",
       "      <td>48767</td>\n",
       "      <td>108</td>\n",
       "      <td>Personal Auto</td>\n",
       "      <td>Two-Door Car</td>\n",
       "      <td>566.472247</td>\n",
       "    </tr>\n",
       "    <tr>\n",
       "      <th>3</th>\n",
       "      <td>WW63253</td>\n",
       "      <td>California</td>\n",
       "      <td>M</td>\n",
       "      <td>7.645862e+05</td>\n",
       "      <td>0</td>\n",
       "      <td>106</td>\n",
       "      <td>Corporate Auto</td>\n",
       "      <td>SUV</td>\n",
       "      <td>529.881344</td>\n",
       "    </tr>\n",
       "    <tr>\n",
       "      <th>4</th>\n",
       "      <td>GA49547</td>\n",
       "      <td>Washington</td>\n",
       "      <td>M</td>\n",
       "      <td>5.363077e+05</td>\n",
       "      <td>36357</td>\n",
       "      <td>68</td>\n",
       "      <td>Personal Auto</td>\n",
       "      <td>Four-Door Car</td>\n",
       "      <td>17.269323</td>\n",
       "    </tr>\n",
       "    <tr>\n",
       "      <th>...</th>\n",
       "      <td>...</td>\n",
       "      <td>...</td>\n",
       "      <td>...</td>\n",
       "      <td>...</td>\n",
       "      <td>...</td>\n",
       "      <td>...</td>\n",
       "      <td>...</td>\n",
       "      <td>...</td>\n",
       "      <td>...</td>\n",
       "    </tr>\n",
       "    <tr>\n",
       "      <th>9132</th>\n",
       "      <td>LA72316</td>\n",
       "      <td>California</td>\n",
       "      <td>M</td>\n",
       "      <td>2.340599e+04</td>\n",
       "      <td>71941</td>\n",
       "      <td>73</td>\n",
       "      <td>Personal Auto</td>\n",
       "      <td>Four-Door Car</td>\n",
       "      <td>198.234764</td>\n",
       "    </tr>\n",
       "    <tr>\n",
       "      <th>9133</th>\n",
       "      <td>PK87824</td>\n",
       "      <td>California</td>\n",
       "      <td>F</td>\n",
       "      <td>3.096511e+03</td>\n",
       "      <td>21604</td>\n",
       "      <td>79</td>\n",
       "      <td>Corporate Auto</td>\n",
       "      <td>Four-Door Car</td>\n",
       "      <td>379.200000</td>\n",
       "    </tr>\n",
       "    <tr>\n",
       "      <th>9134</th>\n",
       "      <td>TD14365</td>\n",
       "      <td>California</td>\n",
       "      <td>M</td>\n",
       "      <td>8.163890e+03</td>\n",
       "      <td>0</td>\n",
       "      <td>85</td>\n",
       "      <td>Corporate Auto</td>\n",
       "      <td>Four-Door Car</td>\n",
       "      <td>790.784983</td>\n",
       "    </tr>\n",
       "    <tr>\n",
       "      <th>9135</th>\n",
       "      <td>UP19263</td>\n",
       "      <td>California</td>\n",
       "      <td>M</td>\n",
       "      <td>7.524442e+03</td>\n",
       "      <td>21941</td>\n",
       "      <td>96</td>\n",
       "      <td>Personal Auto</td>\n",
       "      <td>Four-Door Car</td>\n",
       "      <td>691.200000</td>\n",
       "    </tr>\n",
       "    <tr>\n",
       "      <th>9136</th>\n",
       "      <td>Y167826</td>\n",
       "      <td>California</td>\n",
       "      <td>M</td>\n",
       "      <td>2.611837e+03</td>\n",
       "      <td>0</td>\n",
       "      <td>77</td>\n",
       "      <td>Corporate Auto</td>\n",
       "      <td>Two-Door Car</td>\n",
       "      <td>369.600000</td>\n",
       "    </tr>\n",
       "  </tbody>\n",
       "</table>\n",
       "<p>9134 rows × 9 columns</p>\n",
       "</div>"
      ],
      "text/plain": [
       "     customer          st gender  customer lifetime value  income  \\\n",
       "0     RB50392  Washington    NaN                      NaN       0   \n",
       "1     QZ44356     Arizona      F             6.979536e+05       0   \n",
       "2     AI49188      Nevada      F             1.288743e+06   48767   \n",
       "3     WW63253  California      M             7.645862e+05       0   \n",
       "4     GA49547  Washington      M             5.363077e+05   36357   \n",
       "...       ...         ...    ...                      ...     ...   \n",
       "9132  LA72316  California      M             2.340599e+04   71941   \n",
       "9133  PK87824  California      F             3.096511e+03   21604   \n",
       "9134  TD14365  California      M             8.163890e+03       0   \n",
       "9135  UP19263  California      M             7.524442e+03   21941   \n",
       "9136  Y167826  California      M             2.611837e+03       0   \n",
       "\n",
       "      monthly premium auto     policy type  vehicle class  total claim amount  \n",
       "0                     1000   Personal Auto  Four-Door Car            2.704934  \n",
       "1                       94   Personal Auto  Four-Door Car         1131.464935  \n",
       "2                      108   Personal Auto   Two-Door Car          566.472247  \n",
       "3                      106  Corporate Auto            SUV          529.881344  \n",
       "4                       68   Personal Auto  Four-Door Car           17.269323  \n",
       "...                    ...             ...            ...                 ...  \n",
       "9132                    73   Personal Auto  Four-Door Car          198.234764  \n",
       "9133                    79  Corporate Auto  Four-Door Car          379.200000  \n",
       "9134                    85  Corporate Auto  Four-Door Car          790.784983  \n",
       "9135                    96   Personal Auto  Four-Door Car          691.200000  \n",
       "9136                    77  Corporate Auto   Two-Door Car          369.600000  \n",
       "\n",
       "[9134 rows x 9 columns]"
      ]
     },
     "execution_count": 580,
     "metadata": {},
     "output_type": "execute_result"
    }
   ],
   "source": [
    "data_combi"
   ]
  },
  {
   "cell_type": "markdown",
   "id": "4f56ef82-2acb-4709-ac31-ecf912b025c1",
   "metadata": {},
   "source": [
    "### Filter out the data for customers who have an income of 0 or less."
   ]
  },
  {
   "cell_type": "code",
   "execution_count": 578,
   "id": "6918c65d-6e5c-45a7-a839-42187dd4bf04",
   "metadata": {},
   "outputs": [],
   "source": [
    "filter_low_income = data_combi[(data_combi['income'] <= 0)]"
   ]
  },
  {
   "cell_type": "code",
   "execution_count": 598,
   "id": "3e00726a-32ad-4343-bd12-1809e7a26a29",
   "metadata": {},
   "outputs": [
    {
     "data": {
      "text/html": [
       "<div>\n",
       "<style scoped>\n",
       "    .dataframe tbody tr th:only-of-type {\n",
       "        vertical-align: middle;\n",
       "    }\n",
       "\n",
       "    .dataframe tbody tr th {\n",
       "        vertical-align: top;\n",
       "    }\n",
       "\n",
       "    .dataframe thead th {\n",
       "        text-align: right;\n",
       "    }\n",
       "</style>\n",
       "<table border=\"1\" class=\"dataframe\">\n",
       "  <thead>\n",
       "    <tr style=\"text-align: right;\">\n",
       "      <th></th>\n",
       "      <th>customer</th>\n",
       "      <th>st</th>\n",
       "      <th>gender</th>\n",
       "      <th>customer lifetime value</th>\n",
       "      <th>income</th>\n",
       "      <th>monthly premium auto</th>\n",
       "      <th>policy type</th>\n",
       "      <th>vehicle class</th>\n",
       "      <th>total claim amount</th>\n",
       "    </tr>\n",
       "  </thead>\n",
       "  <tbody>\n",
       "    <tr>\n",
       "      <th>0</th>\n",
       "      <td>RB50392</td>\n",
       "      <td>Washington</td>\n",
       "      <td>NaN</td>\n",
       "      <td>NaN</td>\n",
       "      <td>0</td>\n",
       "      <td>1000</td>\n",
       "      <td>Personal Auto</td>\n",
       "      <td>Four-Door Car</td>\n",
       "      <td>2.704934</td>\n",
       "    </tr>\n",
       "    <tr>\n",
       "      <th>1</th>\n",
       "      <td>QZ44356</td>\n",
       "      <td>Arizona</td>\n",
       "      <td>F</td>\n",
       "      <td>697953.590000</td>\n",
       "      <td>0</td>\n",
       "      <td>94</td>\n",
       "      <td>Personal Auto</td>\n",
       "      <td>Four-Door Car</td>\n",
       "      <td>1131.464935</td>\n",
       "    </tr>\n",
       "    <tr>\n",
       "      <th>3</th>\n",
       "      <td>WW63253</td>\n",
       "      <td>California</td>\n",
       "      <td>M</td>\n",
       "      <td>764586.180000</td>\n",
       "      <td>0</td>\n",
       "      <td>106</td>\n",
       "      <td>Corporate Auto</td>\n",
       "      <td>SUV</td>\n",
       "      <td>529.881344</td>\n",
       "    </tr>\n",
       "    <tr>\n",
       "      <th>7</th>\n",
       "      <td>CF85061</td>\n",
       "      <td>Arizona</td>\n",
       "      <td>M</td>\n",
       "      <td>721610.030000</td>\n",
       "      <td>0</td>\n",
       "      <td>101</td>\n",
       "      <td>Corporate Auto</td>\n",
       "      <td>Four-Door Car</td>\n",
       "      <td>363.029680</td>\n",
       "    </tr>\n",
       "    <tr>\n",
       "      <th>10</th>\n",
       "      <td>SX51350</td>\n",
       "      <td>California</td>\n",
       "      <td>M</td>\n",
       "      <td>473899.200000</td>\n",
       "      <td>0</td>\n",
       "      <td>67</td>\n",
       "      <td>Personal Auto</td>\n",
       "      <td>Four-Door Car</td>\n",
       "      <td>482.400000</td>\n",
       "    </tr>\n",
       "    <tr>\n",
       "      <th>...</th>\n",
       "      <td>...</td>\n",
       "      <td>...</td>\n",
       "      <td>...</td>\n",
       "      <td>...</td>\n",
       "      <td>...</td>\n",
       "      <td>...</td>\n",
       "      <td>...</td>\n",
       "      <td>...</td>\n",
       "      <td>...</td>\n",
       "    </tr>\n",
       "    <tr>\n",
       "      <th>9126</th>\n",
       "      <td>WZ45103</td>\n",
       "      <td>California</td>\n",
       "      <td>F</td>\n",
       "      <td>5678.050167</td>\n",
       "      <td>0</td>\n",
       "      <td>76</td>\n",
       "      <td>Personal Auto</td>\n",
       "      <td>Four-Door Car</td>\n",
       "      <td>364.800000</td>\n",
       "    </tr>\n",
       "    <tr>\n",
       "      <th>9128</th>\n",
       "      <td>RX91025</td>\n",
       "      <td>California</td>\n",
       "      <td>M</td>\n",
       "      <td>19872.262000</td>\n",
       "      <td>0</td>\n",
       "      <td>185</td>\n",
       "      <td>Personal Auto</td>\n",
       "      <td>SUV</td>\n",
       "      <td>1950.725547</td>\n",
       "    </tr>\n",
       "    <tr>\n",
       "      <th>9129</th>\n",
       "      <td>AC13887</td>\n",
       "      <td>California</td>\n",
       "      <td>M</td>\n",
       "      <td>4628.995325</td>\n",
       "      <td>0</td>\n",
       "      <td>67</td>\n",
       "      <td>Corporate Auto</td>\n",
       "      <td>Two-Door Car</td>\n",
       "      <td>482.400000</td>\n",
       "    </tr>\n",
       "    <tr>\n",
       "      <th>9134</th>\n",
       "      <td>TD14365</td>\n",
       "      <td>California</td>\n",
       "      <td>M</td>\n",
       "      <td>8163.890428</td>\n",
       "      <td>0</td>\n",
       "      <td>85</td>\n",
       "      <td>Corporate Auto</td>\n",
       "      <td>Four-Door Car</td>\n",
       "      <td>790.784983</td>\n",
       "    </tr>\n",
       "    <tr>\n",
       "      <th>9136</th>\n",
       "      <td>Y167826</td>\n",
       "      <td>California</td>\n",
       "      <td>M</td>\n",
       "      <td>2611.836866</td>\n",
       "      <td>0</td>\n",
       "      <td>77</td>\n",
       "      <td>Corporate Auto</td>\n",
       "      <td>Two-Door Car</td>\n",
       "      <td>369.600000</td>\n",
       "    </tr>\n",
       "  </tbody>\n",
       "</table>\n",
       "<p>2294 rows × 9 columns</p>\n",
       "</div>"
      ],
      "text/plain": [
       "     customer          st gender  customer lifetime value  income  \\\n",
       "0     RB50392  Washington    NaN                      NaN       0   \n",
       "1     QZ44356     Arizona      F            697953.590000       0   \n",
       "3     WW63253  California      M            764586.180000       0   \n",
       "7     CF85061     Arizona      M            721610.030000       0   \n",
       "10    SX51350  California      M            473899.200000       0   \n",
       "...       ...         ...    ...                      ...     ...   \n",
       "9126  WZ45103  California      F              5678.050167       0   \n",
       "9128  RX91025  California      M             19872.262000       0   \n",
       "9129  AC13887  California      M              4628.995325       0   \n",
       "9134  TD14365  California      M              8163.890428       0   \n",
       "9136  Y167826  California      M              2611.836866       0   \n",
       "\n",
       "      monthly premium auto     policy type  vehicle class  total claim amount  \n",
       "0                     1000   Personal Auto  Four-Door Car            2.704934  \n",
       "1                       94   Personal Auto  Four-Door Car         1131.464935  \n",
       "3                      106  Corporate Auto            SUV          529.881344  \n",
       "7                      101  Corporate Auto  Four-Door Car          363.029680  \n",
       "10                      67   Personal Auto  Four-Door Car          482.400000  \n",
       "...                    ...             ...            ...                 ...  \n",
       "9126                    76   Personal Auto  Four-Door Car          364.800000  \n",
       "9128                   185   Personal Auto            SUV         1950.725547  \n",
       "9129                    67  Corporate Auto   Two-Door Car          482.400000  \n",
       "9134                    85  Corporate Auto  Four-Door Car          790.784983  \n",
       "9136                    77  Corporate Auto   Two-Door Car          369.600000  \n",
       "\n",
       "[2294 rows x 9 columns]"
      ]
     },
     "execution_count": 598,
     "metadata": {},
     "output_type": "execute_result"
    }
   ],
   "source": [
    "#Filter of all households with less than \n",
    "filter_low_income "
   ]
  },
  {
   "cell_type": "markdown",
   "id": "237f0ff5-4509-4aa2-96e3-15724b3d328a",
   "metadata": {},
   "source": [
    "# Everything Below is extra, tried to make a boolean mask :("
   ]
  },
  {
   "cell_type": "code",
   "execution_count": 595,
   "id": "ff8ac221-a296-448d-bb18-6f7aa61f9aba",
   "metadata": {},
   "outputs": [],
   "source": [
    "fil_list = filter_low_income['income'].tolist()\n"
   ]
  },
  {
   "cell_type": "code",
   "execution_count": null,
   "id": "d2cc1b74-7105-453f-b70d-71dcaf6cbc12",
   "metadata": {},
   "outputs": [],
   "source": []
  },
  {
   "cell_type": "code",
   "execution_count": 599,
   "id": "46f65d8b-7ff0-4fbb-b467-bb0104efe1dc",
   "metadata": {},
   "outputs": [
    {
     "data": {
      "text/plain": [
       "0    2294\n",
       "Name: income, dtype: int64"
      ]
     },
     "execution_count": 599,
     "metadata": {},
     "output_type": "execute_result"
    }
   ],
   "source": [
    "filter_low_income['income'].value_counts()"
   ]
  },
  {
   "cell_type": "code",
   "execution_count": 603,
   "id": "1e29f887-fef8-4ea4-942d-100d78e193bd",
   "metadata": {},
   "outputs": [
    {
     "data": {
      "text/plain": [
       "<function list.count(value, /)>"
      ]
     },
     "execution_count": 603,
     "metadata": {},
     "output_type": "execute_result"
    }
   ],
   "source": [
    "fil_list.count"
   ]
  },
  {
   "cell_type": "code",
   "execution_count": 592,
   "id": "275501ef-b118-4bcf-a744-29946504818b",
   "metadata": {},
   "outputs": [],
   "source": [
    "bool_mask = []\n",
    "filter_low_income['income']\n",
    "for i in fil_list:\n",
    "    if i == 0:\n",
    "        bool_mask.append('True')\n",
    "    else:\n",
    "        continue"
   ]
  },
  {
   "cell_type": "code",
   "execution_count": 607,
   "id": "049b14ea-629b-427b-8240-b4009652e239",
   "metadata": {},
   "outputs": [
    {
     "data": {
      "text/plain": [
       "2294"
      ]
     },
     "execution_count": 607,
     "metadata": {},
     "output_type": "execute_result"
    }
   ],
   "source": [
    "bool_mask.count('True')"
   ]
  },
  {
   "cell_type": "code",
   "execution_count": 608,
   "id": "a1cd6248-c4f7-4e49-bd93-5765d1f04b09",
   "metadata": {},
   "outputs": [
    {
     "data": {
      "text/plain": [
       "0"
      ]
     },
     "execution_count": 608,
     "metadata": {},
     "output_type": "execute_result"
    }
   ],
   "source": [
    "bool_mask.count('False')"
   ]
  },
  {
   "cell_type": "code",
   "execution_count": null,
   "id": "e423e7ea-977f-42e3-a52e-7b656d17c4b6",
   "metadata": {},
   "outputs": [],
   "source": []
  }
 ],
 "metadata": {
  "kernelspec": {
   "display_name": "Python 3 (ipykernel)",
   "language": "python",
   "name": "python3"
  },
  "language_info": {
   "codemirror_mode": {
    "name": "ipython",
    "version": 3
   },
   "file_extension": ".py",
   "mimetype": "text/x-python",
   "name": "python",
   "nbconvert_exporter": "python",
   "pygments_lexer": "ipython3",
   "version": "3.10.1"
  }
 },
 "nbformat": 4,
 "nbformat_minor": 5
}
